{
  "nbformat": 4,
  "nbformat_minor": 0,
  "metadata": {
    "colab": {
      "provenance": []
    },
    "kernelspec": {
      "name": "python3",
      "display_name": "Python 3"
    },
    "language_info": {
      "name": "python"
    }
  },
  "cells": [
    {
      "cell_type": "markdown",
      "source": [],
      "metadata": {
        "id": "yMGseiTctfqW"
      }
    },
    {
      "cell_type": "code",
      "source": [
        "# prompt: what is the solution to 4(1/6) +3?\n",
        "\n",
        "result = 4 * (1/6) + 3\n",
        "result"
      ],
      "metadata": {
        "colab": {
          "base_uri": "https://localhost:8080/"
        },
        "id": "_gxnZSOow97E",
        "outputId": "babc4ae3-400c-4db2-a39a-3c7b47a8dc6c"
      },
      "execution_count": 2,
      "outputs": [
        {
          "output_type": "execute_result",
          "data": {
            "text/plain": [
              "3.6666666666666665"
            ]
          },
          "metadata": {},
          "execution_count": 2
        }
      ]
    },
    {
      "cell_type": "code",
      "source": [
        "# prompt: What is today's date and time?\n",
        "\n",
        "from datetime import datetime\n",
        "\n",
        "# Get today's date and time\n",
        "now = datetime.now()\n",
        "\n",
        "# Print the date and time\n",
        "print(\"Today's date and time:\", now)\n",
        "\n",
        "# Code from the provided file\n",
        "result = 4 * (1/6) + 3\n",
        "result"
      ],
      "metadata": {
        "colab": {
          "base_uri": "https://localhost:8080/"
        },
        "id": "qPTOXFy7xakZ",
        "outputId": "5a658fe0-fe4e-450a-d193-fed7607f9f5d"
      },
      "execution_count": 4,
      "outputs": [
        {
          "output_type": "stream",
          "name": "stdout",
          "text": [
            "Today's date and time: 2024-10-30 00:14:42.247947\n"
          ]
        },
        {
          "output_type": "execute_result",
          "data": {
            "text/plain": [
              "3.6666666666666665"
            ]
          },
          "metadata": {},
          "execution_count": 4
        }
      ]
    }
  ]
}